{
 "cells": [
  {
   "cell_type": "markdown",
   "id": "7d9a9982-d39f-42f3-aaef-5d6d5e2e2782",
   "metadata": {},
   "source": [
    "# Image Color Transfer"
   ]
  },
  {
   "cell_type": "raw",
   "id": "a1b73b5c-ad7c-4a67-be22-e000c886b558",
   "metadata": {},
   "source": [
    "concept ->\n",
    "* training sample - extract each unique rgb value of every pixel from a collection of images\n",
    "* test image - extract each rgb value for every pixel in the image. find the knn and replace the rgb with the knn"
   ]
  },
  {
   "cell_type": "code",
   "execution_count": 17,
   "id": "a0258173-b7ba-4f22-b3a9-cb17a8216ca4",
   "metadata": {},
   "outputs": [],
   "source": [
    "import numpy as np\n",
    "import os\n",
    "import cv2"
   ]
  },
  {
   "cell_type": "code",
   "execution_count": 26,
   "id": "8d1ba006-5cc9-4ef4-b8a6-013fc26d7e31",
   "metadata": {},
   "outputs": [],
   "source": [
    "dir_path = '/Users/krishnamehta/Desktop/Image Color Transfer/Kodak Color Plus 200'\n",
    "files = os.listdir(dir_path);"
   ]
  },
  {
   "cell_type": "code",
   "execution_count": 28,
   "id": "af70fb78-0696-4d3b-82e1-177372875af4",
   "metadata": {},
   "outputs": [
    {
     "name": "stdout",
     "output_type": "stream",
     "text": [
      "['/Users/krishnamehta/Desktop/Image Color Transfer/Kodak Color Plus 200/KCP_9.jpg', '/Users/krishnamehta/Desktop/Image Color Transfer/Kodak Color Plus 200/KCP_8.jpg', '/Users/krishnamehta/Desktop/Image Color Transfer/Kodak Color Plus 200/KCP_6.jpg', '/Users/krishnamehta/Desktop/Image Color Transfer/Kodak Color Plus 200/KCP_7.jpg', '/Users/krishnamehta/Desktop/Image Color Transfer/Kodak Color Plus 200/KCP_5.jpg', '/Users/krishnamehta/Desktop/Image Color Transfer/Kodak Color Plus 200/KCP_4.jpg', '/Users/krishnamehta/Desktop/Image Color Transfer/Kodak Color Plus 200/KCP_10.jpg', '/Users/krishnamehta/Desktop/Image Color Transfer/Kodak Color Plus 200/KCP_1.jpg', '/Users/krishnamehta/Desktop/Image Color Transfer/Kodak Color Plus 200/KCP_3.jpg', '/Users/krishnamehta/Desktop/Image Color Transfer/Kodak Color Plus 200/KCP_2.jpg']\n"
     ]
    }
   ],
   "source": [
    "image_paths = []\n",
    "for i in files:\n",
    "        path = os.path.join(dir_path, i)\n",
    "        image_paths.append(path)\n",
    "\n",
    "print(image_paths);"
   ]
  },
  {
   "cell_type": "code",
   "execution_count": 51,
   "id": "aa7d536d-e6db-4c1f-807b-76e5cfea0d71",
   "metadata": {},
   "outputs": [
    {
     "ename": "TypeError",
     "evalue": "unhashable type: 'list'",
     "output_type": "error",
     "traceback": [
      "\u001b[31m---------------------------------------------------------------------------\u001b[39m",
      "\u001b[31mTypeError\u001b[39m                                 Traceback (most recent call last)",
      "\u001b[36mCell\u001b[39m\u001b[36m \u001b[39m\u001b[32mIn[51]\u001b[39m\u001b[32m, line 7\u001b[39m\n\u001b[32m      5\u001b[39m \u001b[38;5;28;01mfor\u001b[39;00m j \u001b[38;5;129;01min\u001b[39;00m \u001b[38;5;28mrange\u001b[39m(\u001b[32m100\u001b[39m):\n\u001b[32m      6\u001b[39m     B, G, R = image[j,i]\n\u001b[32m----> \u001b[39m\u001b[32m7\u001b[39m     \u001b[38;5;28;01mif\u001b[39;00m \u001b[43m[\u001b[49m\u001b[43mR\u001b[49m\u001b[43m,\u001b[49m\u001b[43mG\u001b[49m\u001b[43m,\u001b[49m\u001b[43mB\u001b[49m\u001b[43m]\u001b[49m\u001b[43m \u001b[49m\u001b[38;5;129;43;01min\u001b[39;49;00m\u001b[43m \u001b[49m\u001b[43mcolors\u001b[49m:\n\u001b[32m      8\u001b[39m         colors[[R,G,B]] += \u001b[32m1\u001b[39m\n\u001b[32m      9\u001b[39m     \u001b[38;5;28;01melse\u001b[39;00m:\n",
      "\u001b[31mTypeError\u001b[39m: unhashable type: 'list'"
     ]
    }
   ],
   "source": [
    "colors = {}\n",
    "image = cv2.imread(image_paths[0])\n",
    "h, w = image.shape[:2]\n",
    "for i in range(100):\n",
    "   for j in range(100):\n",
    "       B, G, R = image[j,i]\n",
    "       if [R,G,B] in colors:\n",
    "           colors[[R,G,B]] += 1\n",
    "       else:\n",
    "           colors[[R,G,B]] = 1\n",
    "print(colors)"
   ]
  },
  {
   "cell_type": "code",
   "execution_count": null,
   "id": "602a0c77-198e-405b-a2c8-829efa866d70",
   "metadata": {},
   "outputs": [],
   "source": []
  }
 ],
 "metadata": {
  "kernelspec": {
   "display_name": "Python 3 (ipykernel)",
   "language": "python",
   "name": "python3"
  },
  "language_info": {
   "codemirror_mode": {
    "name": "ipython",
    "version": 3
   },
   "file_extension": ".py",
   "mimetype": "text/x-python",
   "name": "python",
   "nbconvert_exporter": "python",
   "pygments_lexer": "ipython3",
   "version": "3.13.4"
  }
 },
 "nbformat": 4,
 "nbformat_minor": 5
}
