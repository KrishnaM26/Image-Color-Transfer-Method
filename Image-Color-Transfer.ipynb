{
 "cells": [
  {
   "cell_type": "markdown",
   "id": "7d9a9982-d39f-42f3-aaef-5d6d5e2e2782",
   "metadata": {},
   "source": [
    "# Image Color Transfer"
   ]
  },
  {
   "cell_type": "raw",
   "id": "a1b73b5c-ad7c-4a67-be22-e000c886b558",
   "metadata": {},
   "source": [
    "concept ->\n",
    "* training sample - extract each unique rgb value of every pixel from a collection of images\n",
    "* test image - extract each rgb value for every pixel in the image. find the knn and replace the rgb with the knn"
   ]
  },
  {
   "cell_type": "code",
   "execution_count": 17,
   "id": "a0258173-b7ba-4f22-b3a9-cb17a8216ca4",
   "metadata": {},
   "outputs": [],
   "source": [
    "import numpy as np\n",
    "import os\n",
    "import cv2"
   ]
  },
  {
   "cell_type": "code",
   "execution_count": 21,
   "id": "8d1ba006-5cc9-4ef4-b8a6-013fc26d7e31",
   "metadata": {},
   "outputs": [],
   "source": [
    "files = os.listdir('/Users/krishnamehta/Desktop/Kodak Color Plus 200');"
   ]
  },
  {
   "cell_type": "code",
   "execution_count": null,
   "id": "af70fb78-0696-4d3b-82e1-177372875af4",
   "metadata": {},
   "outputs": [],
   "source": []
  }
 ],
 "metadata": {
  "kernelspec": {
   "display_name": "Python 3 (ipykernel)",
   "language": "python",
   "name": "python3"
  },
  "language_info": {
   "codemirror_mode": {
    "name": "ipython",
    "version": 3
   },
   "file_extension": ".py",
   "mimetype": "text/x-python",
   "name": "python",
   "nbconvert_exporter": "python",
   "pygments_lexer": "ipython3",
   "version": "3.13.4"
  }
 },
 "nbformat": 4,
 "nbformat_minor": 5
}
